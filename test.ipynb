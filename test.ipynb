{
 "cells": [
  {
   "cell_type": "code",
   "execution_count": 1,
   "metadata": {},
   "outputs": [],
   "source": [
    "import docker \n",
    "import pandas as pd\n",
    "import tensorflow as tf\n",
    "from gym_torcs_docker import TorcsDockerEnv, obs_to_state\n",
    "from ddpg import DDPG\n",
    "from a3c import A3C\n",
    "from networks import A3CNetwork\n",
    "\n",
    "docker_client = docker.from_env()"
   ]
  },
  {
   "cell_type": "code",
   "execution_count": 2,
   "metadata": {},
   "outputs": [],
   "source": [
    "def testModelOnTrack(\n",
    "        docker_client, sess, model, trackname, max_steps=1000,\n",
    "        docker_port=3101):\n",
    "    \"\"\"Drives the model around the specified track for 1000 time steps\"\"\"\n",
    "\n",
    "    env = TorcsDockerEnv(\n",
    "        docker_client, 'test', port=docker_port, track_name=trackname)\n",
    "    env._set_track()\n",
    "    observation = env.reset(relaunch=True)\n",
    "    state_t = obs_to_state(observation)\n",
    "\n",
    "    results = {}\n",
    "\n",
    "    for i in range(max_steps):\n",
    "        action_t = model.predict(sess, state_t.reshape(1, state_t.shape[0]))\n",
    "        observation, reward_t, done, _ = env.step(action_t[0])\n",
    "        state_t = obs_to_state(observation)\n",
    "        results[i] = reward_t\n",
    "        if done:\n",
    "            break\n",
    "\n",
    "    env.end()\n",
    "\n",
    "    return results\n",
    "\n",
    "\n",
    "def testDDPG(docker_client, modeldir, test_tracks):\n",
    "    \"\"\"Loads the weights from the model dir and drives the agent around the provided test tracks\"\"\"\n",
    "    config = tf.ConfigProto()\n",
    "    config.gpu_options.allow_growth = True\n",
    "    \n",
    "    tf.reset_default_graph()\n",
    "\n",
    "    model = DDPG(docker_client)\n",
    "\n",
    "    saver = tf.train.Saver(max_to_keep=5)\n",
    "    rewards = {}\n",
    "    with tf.Session(config=config) as sess:\n",
    "        ckpt = tf.train.get_checkpoint_state(modeldir)\n",
    "        saver.restore(sess, ckpt.model_checkpoint_path)\n",
    "        \n",
    "        for track in test_tracks:\n",
    "            reward = testModelOnTrack(\n",
    "                docker_client, sess, model.actor, track, max_steps=1000,\n",
    "                docker_port=3121)\n",
    "            rewards[track] = reward\n",
    "    return rewards\n",
    "\n",
    "\n",
    "def testA3C(docker_client, modeldir, test_tracks):\n",
    "    \"\"\"Loads the weights from the model dir and drives the agent around the provided test tracks\"\"\"\n",
    "    config = tf.ConfigProto()\n",
    "    config.gpu_options.allow_growth = True\n",
    "    \n",
    "    # the device needs to be set otherwise the cpkt restore does not work\n",
    "    tf.reset_default_graph()\n",
    "    with tf.device('/cpu:0'):\n",
    "        test_net =  A3CNetwork(29, 2, None, 'global')\n",
    "    saver = tf.train.Saver(max_to_keep=5)\n",
    "    rewards = {}\n",
    "    with tf.Session(config=config) as sess:\n",
    "        ckpt = tf.train.get_checkpoint_state(modeldir)\n",
    "        saver.restore(sess, modeldir)\n",
    "\n",
    "        for track in test_tracks:\n",
    "            reward = testModelOnTrack(\n",
    "                docker_client, sess, test_net, track, max_steps=1000,\n",
    "                docker_port=3121)\n",
    "            rewards[track] = reward\n",
    "    return rewards"
   ]
  },
  {
   "cell_type": "code",
   "execution_count": 3,
   "metadata": {
    "collapsed": true
   },
   "outputs": [],
   "source": [
    "test_tracks = ['g-track-3', 'e-track-6', 'alpine-2']\n",
    "\n",
    "path_ddpg_ref = '../models/ddpg_ref'\n",
    "path_ddpg_1 = '../models/ddpg_1'\n",
    "path_ddpg_2 = '../models/ddpg_2'\n",
    "path_a3c = '../models/a3c/model-3162.cptk'"
   ]
  },
  {
   "cell_type": "code",
   "execution_count": 4,
   "metadata": {
    "scrolled": true
   },
   "outputs": [
    {
     "name": "stdout",
     "output_type": "stream",
     "text": [
      "INFO:tensorflow:Restoring parameters from ../models/ddpg_ref/model-1050.cptk\n"
     ]
    },
    {
     "name": "stderr",
     "output_type": "stream",
     "text": [
      "[2017-04-25 03:08:47,917] Restoring parameters from ../models/ddpg_ref/model-1050.cptk\n"
     ]
    },
    {
     "name": "stdout",
     "output_type": "stream",
     "text": [
      "Waiting for server on 3121............\n",
      "Waiting for server on 3121............\n",
      "Client connected on 3121..............\n",
      "Waiting for server on 3121............\n",
      "Waiting for server on 3121............\n",
      "Waiting for server on 3121............\n",
      "Client connected on 3121..............\n",
      "Waiting for server on 3121............\n",
      "Waiting for server on 3121............\n",
      "Waiting for server on 3121............\n",
      "Client connected on 3121..............\n",
      "INFO:tensorflow:Restoring parameters from ../models/ddpg_1/model-1550.cptk\n"
     ]
    },
    {
     "name": "stderr",
     "output_type": "stream",
     "text": [
      "[2017-04-25 03:09:24,567] Restoring parameters from ../models/ddpg_1/model-1550.cptk\n"
     ]
    },
    {
     "name": "stdout",
     "output_type": "stream",
     "text": [
      "Waiting for server on 3121............\n",
      "Waiting for server on 3121............\n",
      "Client connected on 3121..............\n",
      "Waiting for server on 3121............\n",
      "Waiting for server on 3121............\n",
      "Waiting for server on 3121............\n",
      "Client connected on 3121..............\n",
      "Waiting for server on 3121............\n",
      "Waiting for server on 3121............\n",
      "Client connected on 3121..............\n",
      "INFO:tensorflow:Restoring parameters from ../models/ddpg_2/model-250.cptk\n"
     ]
    },
    {
     "name": "stderr",
     "output_type": "stream",
     "text": [
      "[2017-04-25 03:09:45,661] Restoring parameters from ../models/ddpg_2/model-250.cptk\n"
     ]
    },
    {
     "name": "stdout",
     "output_type": "stream",
     "text": [
      "Waiting for server on 3121............\n",
      "Waiting for server on 3121............\n",
      "Client connected on 3121..............\n",
      "Waiting for server on 3121............\n",
      "Waiting for server on 3121............\n",
      "Waiting for server on 3121............\n",
      "Client connected on 3121..............\n",
      "Waiting for server on 3121............\n",
      "Waiting for server on 3121............\n",
      "Client connected on 3121..............\n"
     ]
    }
   ],
   "source": [
    "ddpg_ref = testDDPG(docker_client, path_ddpg_ref, test_tracks)\n",
    "ddpg_1 = testDDPG(docker_client, path_ddpg_1, test_tracks)\n",
    "ddpg_2 = testDDPG(docker_client, path_ddpg_2, test_tracks)"
   ]
  },
  {
   "cell_type": "code",
   "execution_count": 5,
   "metadata": {
    "scrolled": true
   },
   "outputs": [
    {
     "name": "stdout",
     "output_type": "stream",
     "text": [
      "INFO:tensorflow:Restoring parameters from ../models/a3c/model-3162.cptk\n"
     ]
    },
    {
     "name": "stderr",
     "output_type": "stream",
     "text": [
      "[2017-04-25 03:10:05,318] Restoring parameters from ../models/a3c/model-3162.cptk\n"
     ]
    },
    {
     "name": "stdout",
     "output_type": "stream",
     "text": [
      "Waiting for server on 3121............\n",
      "Waiting for server on 3121............\n",
      "Client connected on 3121..............\n",
      "Waiting for server on 3121............\n",
      "Waiting for server on 3121............\n",
      "Waiting for server on 3121............\n",
      "Client connected on 3121..............\n",
      "Waiting for server on 3121............\n",
      "Waiting for server on 3121............\n",
      "Client connected on 3121..............\n"
     ]
    }
   ],
   "source": [
    "a3c = testA3C(docker_client, path_a3c, test_tracks)"
   ]
  },
  {
   "cell_type": "code",
   "execution_count": 24,
   "metadata": {},
   "outputs": [
    {
     "data": {
      "text/html": [
       "<div>\n",
       "<table border=\"1\" class=\"dataframe\">\n",
       "  <thead>\n",
       "    <tr style=\"text-align: right;\">\n",
       "      <th></th>\n",
       "      <th>ddpg_ref</th>\n",
       "    </tr>\n",
       "  </thead>\n",
       "  <tbody>\n",
       "    <tr>\n",
       "      <th>alpine-2</th>\n",
       "      <td>-16.621978</td>\n",
       "    </tr>\n",
       "    <tr>\n",
       "      <th>e-track-6</th>\n",
       "      <td>-18.431343</td>\n",
       "    </tr>\n",
       "    <tr>\n",
       "      <th>g-track-3</th>\n",
       "      <td>-11.332032</td>\n",
       "    </tr>\n",
       "  </tbody>\n",
       "</table>\n",
       "</div>"
      ],
      "text/plain": [
       "            ddpg_ref\n",
       "alpine-2  -16.621978\n",
       "e-track-6 -18.431343\n",
       "g-track-3 -11.332032"
      ]
     },
     "execution_count": 24,
     "metadata": {},
     "output_type": "execute_result"
    }
   ],
   "source": [
    "# Reward for the reference scenario\n",
    "pd.DataFrame(pd.DataFrame(ddpg_ref).sum()).rename(columns={0: \"ddpg_ref\"})"
   ]
  },
  {
   "cell_type": "code",
   "execution_count": 25,
   "metadata": {},
   "outputs": [
    {
     "data": {
      "text/html": [
       "<div>\n",
       "<table border=\"1\" class=\"dataframe\">\n",
       "  <thead>\n",
       "    <tr style=\"text-align: right;\">\n",
       "      <th></th>\n",
       "      <th>ddpg_1</th>\n",
       "    </tr>\n",
       "  </thead>\n",
       "  <tbody>\n",
       "    <tr>\n",
       "      <th>alpine-2</th>\n",
       "      <td>215.928331</td>\n",
       "    </tr>\n",
       "    <tr>\n",
       "      <th>e-track-6</th>\n",
       "      <td>296.924800</td>\n",
       "    </tr>\n",
       "    <tr>\n",
       "      <th>g-track-3</th>\n",
       "      <td>280.188617</td>\n",
       "    </tr>\n",
       "  </tbody>\n",
       "</table>\n",
       "</div>"
      ],
      "text/plain": [
       "               ddpg_1\n",
       "alpine-2   215.928331\n",
       "e-track-6  296.924800\n",
       "g-track-3  280.188617"
      ]
     },
     "execution_count": 25,
     "metadata": {},
     "output_type": "execute_result"
    }
   ],
   "source": [
    "# Reward for the ddpg_1 scenario\n",
    "pd.DataFrame(pd.DataFrame(ddpg_1).sum()).rename(columns={0: \"ddpg_1\"})"
   ]
  },
  {
   "cell_type": "code",
   "execution_count": 23,
   "metadata": {},
   "outputs": [
    {
     "data": {
      "text/html": [
       "<div>\n",
       "<table border=\"1\" class=\"dataframe\">\n",
       "  <thead>\n",
       "    <tr style=\"text-align: right;\">\n",
       "      <th></th>\n",
       "      <th>ddpg_2</th>\n",
       "    </tr>\n",
       "  </thead>\n",
       "  <tbody>\n",
       "    <tr>\n",
       "      <th>alpine-2</th>\n",
       "      <td>218.888216</td>\n",
       "    </tr>\n",
       "    <tr>\n",
       "      <th>e-track-6</th>\n",
       "      <td>305.312837</td>\n",
       "    </tr>\n",
       "    <tr>\n",
       "      <th>g-track-3</th>\n",
       "      <td>280.339358</td>\n",
       "    </tr>\n",
       "  </tbody>\n",
       "</table>\n",
       "</div>"
      ],
      "text/plain": [
       "               ddpg_2\n",
       "alpine-2   218.888216\n",
       "e-track-6  305.312837\n",
       "g-track-3  280.339358"
      ]
     },
     "execution_count": 23,
     "metadata": {},
     "output_type": "execute_result"
    }
   ],
   "source": [
    "# Reward for the ddpg_1 scenario\n",
    "pd.DataFrame(pd.DataFrame(ddpg_2).sum()).rename(columns={0: \"ddpg_2\"})"
   ]
  },
  {
   "cell_type": "code",
   "execution_count": 20,
   "metadata": {},
   "outputs": [
    {
     "data": {
      "text/html": [
       "<div>\n",
       "<table border=\"1\" class=\"dataframe\">\n",
       "  <thead>\n",
       "    <tr style=\"text-align: right;\">\n",
       "      <th></th>\n",
       "      <th>a3c</th>\n",
       "    </tr>\n",
       "  </thead>\n",
       "  <tbody>\n",
       "    <tr>\n",
       "      <th>alpine-2</th>\n",
       "      <td>-5.983607</td>\n",
       "    </tr>\n",
       "    <tr>\n",
       "      <th>e-track-6</th>\n",
       "      <td>-27.003535</td>\n",
       "    </tr>\n",
       "    <tr>\n",
       "      <th>g-track-3</th>\n",
       "      <td>-58.951636</td>\n",
       "    </tr>\n",
       "  </tbody>\n",
       "</table>\n",
       "</div>"
      ],
      "text/plain": [
       "                 a3c\n",
       "alpine-2   -5.983607\n",
       "e-track-6 -27.003535\n",
       "g-track-3 -58.951636"
      ]
     },
     "execution_count": 20,
     "metadata": {},
     "output_type": "execute_result"
    }
   ],
   "source": [
    "# Reward for the a3c_1 scenario\n",
    "pd.DataFrame(pd.DataFrame(a3c).sum()).rename(columns={0: \"a3c\"})"
   ]
  }
 ],
 "metadata": {
  "kernelspec": {
   "display_name": "Python 3",
   "language": "python",
   "name": "python3"
  },
  "language_info": {
   "codemirror_mode": {
    "name": "ipython",
    "version": 3
   },
   "file_extension": ".py",
   "mimetype": "text/x-python",
   "name": "python",
   "nbconvert_exporter": "python",
   "pygments_lexer": "ipython3",
   "version": "3.5.2"
  }
 },
 "nbformat": 4,
 "nbformat_minor": 2
}
